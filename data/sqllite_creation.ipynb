{
 "cells": [
  {
   "cell_type": "code",
   "execution_count": 9,
   "metadata": {},
   "outputs": [],
   "source": [
    "# Import SQL Alchemy\n",
    "from sqlalchemy import create_engine"
   ]
  },
  {
   "cell_type": "code",
   "execution_count": 10,
   "metadata": {},
   "outputs": [],
   "source": [
    "# Import and establish Base for which classes will be constructed \n",
    "from sqlalchemy.ext.declarative import declarative_base\n",
    "Base = declarative_base()"
   ]
  },
  {
   "cell_type": "code",
   "execution_count": 11,
   "metadata": {},
   "outputs": [],
   "source": [
    "# Import modules to declare columns and column data types\n",
    "from sqlalchemy import Column, Integer, String, Float"
   ]
  },
  {
   "cell_type": "code",
   "execution_count": 12,
   "metadata": {},
   "outputs": [],
   "source": [
    "# Create Surfer and Board classes\n",
    "# ----------------------------------\n",
    "class youtube(Base):\n",
    "    __tablename__ = 'youtube_video'\n",
    "    video_id = Column(String, primary_key=True)\n",
    "    trending_date = Column(String(255))\n",
    "    category_id = Column(String(255))\n",
    "    views = Column(Integer)\n",
    "    category = Column(String(255))\n",
    "    likes = Column(Integer)\n",
    "    dislikes = Column(Integer)\n",
    "    comments_count = Column(String(255))"
   ]
  },
  {
   "cell_type": "code",
   "execution_count": 13,
   "metadata": {},
   "outputs": [
    {
     "data": {
      "text/html": [
       "<div>\n",
       "<style scoped>\n",
       "    .dataframe tbody tr th:only-of-type {\n",
       "        vertical-align: middle;\n",
       "    }\n",
       "\n",
       "    .dataframe tbody tr th {\n",
       "        vertical-align: top;\n",
       "    }\n",
       "\n",
       "    .dataframe thead th {\n",
       "        text-align: right;\n",
       "    }\n",
       "</style>\n",
       "<table border=\"1\" class=\"dataframe\">\n",
       "  <thead>\n",
       "    <tr style=\"text-align: right;\">\n",
       "      <th></th>\n",
       "      <th>video_id</th>\n",
       "      <th>trending_date</th>\n",
       "      <th>category_id</th>\n",
       "      <th>views</th>\n",
       "      <th>category</th>\n",
       "      <th>likes</th>\n",
       "      <th>dislikes</th>\n",
       "      <th>comment_count</th>\n",
       "    </tr>\n",
       "  </thead>\n",
       "  <tbody>\n",
       "    <tr>\n",
       "      <th>0</th>\n",
       "      <td>__1SjDrSMik</td>\n",
       "      <td>18.06.02</td>\n",
       "      <td>22</td>\n",
       "      <td>1578774</td>\n",
       "      <td>People &amp; Blogs</td>\n",
       "      <td>155500</td>\n",
       "      <td>2005</td>\n",
       "      <td>9271</td>\n",
       "    </tr>\n",
       "    <tr>\n",
       "      <th>1</th>\n",
       "      <td>__-22AJoFxY</td>\n",
       "      <td>18.17.01</td>\n",
       "      <td>10</td>\n",
       "      <td>270838</td>\n",
       "      <td>Music</td>\n",
       "      <td>31167</td>\n",
       "      <td>83</td>\n",
       "      <td>1624</td>\n",
       "    </tr>\n",
       "    <tr>\n",
       "      <th>2</th>\n",
       "      <td>__4c1JCHvaQ</td>\n",
       "      <td>17.12.12</td>\n",
       "      <td>26</td>\n",
       "      <td>3645622</td>\n",
       "      <td>Howto &amp; Style</td>\n",
       "      <td>188490</td>\n",
       "      <td>3598</td>\n",
       "      <td>20594</td>\n",
       "    </tr>\n",
       "    <tr>\n",
       "      <th>3</th>\n",
       "      <td>__Wd-iOZQ6k</td>\n",
       "      <td>18.31.01</td>\n",
       "      <td>23</td>\n",
       "      <td>1651882</td>\n",
       "      <td>Comedy</td>\n",
       "      <td>67621</td>\n",
       "      <td>1095</td>\n",
       "      <td>3924</td>\n",
       "    </tr>\n",
       "    <tr>\n",
       "      <th>4</th>\n",
       "      <td>_0ovuLsnU1A</td>\n",
       "      <td>18.26.02</td>\n",
       "      <td>24</td>\n",
       "      <td>2507969</td>\n",
       "      <td>Entertainment</td>\n",
       "      <td>40658</td>\n",
       "      <td>4659</td>\n",
       "      <td>9763</td>\n",
       "    </tr>\n",
       "  </tbody>\n",
       "</table>\n",
       "</div>"
      ],
      "text/plain": [
       "      video_id trending_date  category_id    views        category   likes  \\\n",
       "0  __1SjDrSMik      18.06.02           22  1578774  People & Blogs  155500   \n",
       "1  __-22AJoFxY      18.17.01           10   270838           Music   31167   \n",
       "2  __4c1JCHvaQ      17.12.12           26  3645622   Howto & Style  188490   \n",
       "3  __Wd-iOZQ6k      18.31.01           23  1651882          Comedy   67621   \n",
       "4  _0ovuLsnU1A      18.26.02           24  2507969   Entertainment   40658   \n",
       "\n",
       "   dislikes  comment_count  \n",
       "0      2005           9271  \n",
       "1        83           1624  \n",
       "2      3598          20594  \n",
       "3      1095           3924  \n",
       "4      4659           9763  "
      ]
     },
     "execution_count": 13,
     "metadata": {},
     "output_type": "execute_result"
    }
   ],
   "source": [
    "import csv\n",
    "import pandas as pd\n",
    "\n",
    "csv_path = \"USvideos_sv2.csv\"\n",
    "yt_db = pd.read_csv(csv_path)\n",
    "# Print the first five rows of data to the screen\n",
    "yt_db.head()"
   ]
  },
  {
   "cell_type": "code",
   "execution_count": null,
   "metadata": {},
   "outputs": [],
   "source": [
    "engine_yt = \n",
    "\n",
    "for row in yt_db"
   ]
  },
  {
   "cell_type": "code",
   "execution_count": 6,
   "metadata": {},
   "outputs": [],
   "source": [
    "# Create Database Connection\n",
    "# ----------------------------------\n",
    "# Establish Connection\n",
    "engine_yt = create_engine(\"sqlite:///youtube.sqlite\")\n",
    "conn_yt = engine.connect()\n",
    "\n",
    "videos = []\n",
    "\n",
    "for row in yt_db\n",
    "    video()"
   ]
  },
  {
   "cell_type": "code",
   "execution_count": 7,
   "metadata": {},
   "outputs": [],
   "source": [
    "# Create both the Surfer and Board tables within the database\n",
    "Base.metadata.create_all(conn)"
   ]
  },
  {
   "cell_type": "code",
   "execution_count": 8,
   "metadata": {},
   "outputs": [],
   "source": [
    "# To push the objects made and query the server we use a Session object\n",
    "from sqlalchemy.orm import Session\n",
    "session = Session(bind=engine)"
   ]
  },
  {
   "cell_type": "code",
   "execution_count": 9,
   "metadata": {},
   "outputs": [],
   "source": [
    "# Add \"Bruno\" to the current session\n",
    "session.add(surfer)\n",
    "# Add \"Awwwyeah\" to the current session\n",
    "session.add(board)\n",
    "# Commit both objects to the database\n",
    "session.commit()"
   ]
  },
  {
   "cell_type": "code",
   "execution_count": 10,
   "metadata": {},
   "outputs": [
    {
     "name": "stdout",
     "output_type": "stream",
     "text": [
      "Bruno\n",
      "LA\n",
      "10\n",
      "Bruno\n",
      "LA\n",
      "10\n"
     ]
    }
   ],
   "source": [
    "# Query the database and collect all of the surfers in the Surfer table\n",
    "surfer_list = session.query(Surfer)\n",
    "for bro in surfer_list:\n",
    "    print(bro.name)\n",
    "    print(bro.hometown)\n",
    "    print(bro.rank)"
   ]
  }
 ],
 "metadata": {
  "kernelspec": {
   "display_name": "Python 3",
   "language": "python",
   "name": "python3"
  },
  "language_info": {
   "codemirror_mode": {
    "name": "ipython",
    "version": 3
   },
   "file_extension": ".py",
   "mimetype": "text/x-python",
   "name": "python",
   "nbconvert_exporter": "python",
   "pygments_lexer": "ipython3",
   "version": "3.7.3"
  },
  "varInspector": {
   "cols": {
    "lenName": 16,
    "lenType": 16,
    "lenVar": 40
   },
   "kernels_config": {
    "python": {
     "delete_cmd_postfix": "",
     "delete_cmd_prefix": "del ",
     "library": "var_list.py",
     "varRefreshCmd": "print(var_dic_list())"
    },
    "r": {
     "delete_cmd_postfix": ") ",
     "delete_cmd_prefix": "rm(",
     "library": "var_list.r",
     "varRefreshCmd": "cat(var_dic_list()) "
    }
   },
   "types_to_exclude": [
    "module",
    "function",
    "builtin_function_or_method",
    "instance",
    "_Feature"
   ],
   "window_display": false
  }
 },
 "nbformat": 4,
 "nbformat_minor": 2
}
