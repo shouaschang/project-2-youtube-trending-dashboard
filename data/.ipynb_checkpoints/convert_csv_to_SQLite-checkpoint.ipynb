{
 "cells": [
  {
   "cell_type": "markdown",
   "metadata": {},
   "source": [
    "## Database Engineering"
   ]
  },
  {
   "cell_type": "code",
   "execution_count": 9,
   "metadata": {},
   "outputs": [],
   "source": [
    "#Dependencies\n",
    "import pandas as pd\n",
    "import csv"
   ]
  },
  {
   "cell_type": "code",
   "execution_count": 10,
   "metadata": {},
   "outputs": [],
   "source": [
    "# Python SQL toolkit and Object Relational Mapper\n",
    "import sqlalchemy\n",
    "from sqlalchemy.orm import Session\n",
    "from sqlalchemy import create_engine, inspect, func\n",
    "# Import modules to declare columns and column data types\n",
    "from sqlalchemy import Column, Integer, String, Float\n",
    "# Import and establish Base for which classes will be constructed \n",
    "from sqlalchemy.ext.declarative import declarative_base\n",
    "Base = declarative_base()"
   ]
  },
  {
   "cell_type": "code",
   "execution_count": 11,
   "metadata": {},
   "outputs": [],
   "source": [
    "#Read the csv files into pandas dataframes\n",
    "clean_USvideos_df=pd.read_csv(\"USvideos_edit3.csv\")\n",
    "# clean_stations_df=pd.read_csv('clean_stations')"
   ]
  },
  {
   "cell_type": "code",
   "execution_count": 12,
   "metadata": {},
   "outputs": [
    {
     "data": {
      "text/html": [
       "<div>\n",
       "<style scoped>\n",
       "    .dataframe tbody tr th:only-of-type {\n",
       "        vertical-align: middle;\n",
       "    }\n",
       "\n",
       "    .dataframe tbody tr th {\n",
       "        vertical-align: top;\n",
       "    }\n",
       "\n",
       "    .dataframe thead th {\n",
       "        text-align: right;\n",
       "    }\n",
       "</style>\n",
       "<table border=\"1\" class=\"dataframe\">\n",
       "  <thead>\n",
       "    <tr style=\"text-align: right;\">\n",
       "      <th></th>\n",
       "      <th>video_id</th>\n",
       "      <th>trending_date</th>\n",
       "      <th>title</th>\n",
       "      <th>channel_title</th>\n",
       "      <th>category_id</th>\n",
       "      <th>publish_time</th>\n",
       "      <th>views</th>\n",
       "      <th>category</th>\n",
       "      <th>likes</th>\n",
       "      <th>dislikes</th>\n",
       "      <th>comment_count</th>\n",
       "    </tr>\n",
       "  </thead>\n",
       "  <tbody>\n",
       "    <tr>\n",
       "      <th>0</th>\n",
       "      <td>jr9QtXwC9vc</td>\n",
       "      <td>17.14.11</td>\n",
       "      <td>The Greatest Showman | Official Trailer 2 [HD]...</td>\n",
       "      <td>20th Century Fox</td>\n",
       "      <td>1</td>\n",
       "      <td>2017-11-13T14:00:23.000Z</td>\n",
       "      <td>826059</td>\n",
       "      <td>Film &amp; Animation</td>\n",
       "      <td>3543</td>\n",
       "      <td>119</td>\n",
       "      <td>340</td>\n",
       "    </tr>\n",
       "    <tr>\n",
       "      <th>1</th>\n",
       "      <td>n30k5CwLhS4</td>\n",
       "      <td>17.14.11</td>\n",
       "      <td>Nick Andopolis: Drummer</td>\n",
       "      <td>FaeryInLoveInc</td>\n",
       "      <td>1</td>\n",
       "      <td>2011-05-29T17:03:12.000Z</td>\n",
       "      <td>50867</td>\n",
       "      <td>Film &amp; Animation</td>\n",
       "      <td>715</td>\n",
       "      <td>238</td>\n",
       "      <td>246</td>\n",
       "    </tr>\n",
       "    <tr>\n",
       "      <th>2</th>\n",
       "      <td>Om_zGhJLZ5U</td>\n",
       "      <td>17.14.11</td>\n",
       "      <td>TL;DW - Every DCEU Movie Before Justice League</td>\n",
       "      <td>Screen Junkies</td>\n",
       "      <td>1</td>\n",
       "      <td>2017-11-12T18:00:03.000Z</td>\n",
       "      <td>288922</td>\n",
       "      <td>Film &amp; Animation</td>\n",
       "      <td>7515</td>\n",
       "      <td>792</td>\n",
       "      <td>2111</td>\n",
       "    </tr>\n",
       "    <tr>\n",
       "      <th>3</th>\n",
       "      <td>UFYCTJlayS4</td>\n",
       "      <td>17.14.11</td>\n",
       "      <td>Top 10 iPhone Apps for Productivity &amp; Content ...</td>\n",
       "      <td>Sara Dietschy</td>\n",
       "      <td>1</td>\n",
       "      <td>2017-11-11T03:56:10.000Z</td>\n",
       "      <td>52591</td>\n",
       "      <td>Film &amp; Animation</td>\n",
       "      <td>2233</td>\n",
       "      <td>187</td>\n",
       "      <td>255</td>\n",
       "    </tr>\n",
       "    <tr>\n",
       "      <th>4</th>\n",
       "      <td>fNtLIcyjsnI</td>\n",
       "      <td>17.14.11</td>\n",
       "      <td>Game Night Official Trailer #1 (2018) Rachel M...</td>\n",
       "      <td>Zero Media</td>\n",
       "      <td>1</td>\n",
       "      <td>2017-11-09T17:11:32.000Z</td>\n",
       "      <td>1751064</td>\n",
       "      <td>Film &amp; Animation</td>\n",
       "      <td>16430</td>\n",
       "      <td>945</td>\n",
       "      <td>1231</td>\n",
       "    </tr>\n",
       "  </tbody>\n",
       "</table>\n",
       "</div>"
      ],
      "text/plain": [
       "      video_id trending_date  \\\n",
       "0  jr9QtXwC9vc      17.14.11   \n",
       "1  n30k5CwLhS4      17.14.11   \n",
       "2  Om_zGhJLZ5U      17.14.11   \n",
       "3  UFYCTJlayS4      17.14.11   \n",
       "4  fNtLIcyjsnI      17.14.11   \n",
       "\n",
       "                                               title     channel_title  \\\n",
       "0  The Greatest Showman | Official Trailer 2 [HD]...  20th Century Fox   \n",
       "1                            Nick Andopolis: Drummer    FaeryInLoveInc   \n",
       "2     TL;DW - Every DCEU Movie Before Justice League    Screen Junkies   \n",
       "3  Top 10 iPhone Apps for Productivity & Content ...     Sara Dietschy   \n",
       "4  Game Night Official Trailer #1 (2018) Rachel M...        Zero Media   \n",
       "\n",
       "   category_id              publish_time    views          category  likes  \\\n",
       "0            1  2017-11-13T14:00:23.000Z   826059  Film & Animation   3543   \n",
       "1            1  2011-05-29T17:03:12.000Z    50867  Film & Animation    715   \n",
       "2            1  2017-11-12T18:00:03.000Z   288922  Film & Animation   7515   \n",
       "3            1  2017-11-11T03:56:10.000Z    52591  Film & Animation   2233   \n",
       "4            1  2017-11-09T17:11:32.000Z  1751064  Film & Animation  16430   \n",
       "\n",
       "   dislikes  comment_count  \n",
       "0       119            340  \n",
       "1       238            246  \n",
       "2       792           2111  \n",
       "3       187            255  \n",
       "4       945           1231  "
      ]
     },
     "execution_count": 12,
     "metadata": {},
     "output_type": "execute_result"
    }
   ],
   "source": [
    "clean_USvideos_df.head()"
   ]
  },
  {
   "cell_type": "code",
   "execution_count": 13,
   "metadata": {},
   "outputs": [],
   "source": [
    "#Create and connect to the sqlite database\n",
    "engine = create_engine(\"sqlite:///USvideos.sqlite\", echo=False)\n",
    "conn = engine.connect()"
   ]
  },
  {
   "cell_type": "code",
   "execution_count": 14,
   "metadata": {},
   "outputs": [],
   "source": [
    "# Create Measurements and Stations classes\n",
    "# ----------------------------------\n",
    "class USvideos(Base):\n",
    "    __tablename__ = 'USvideos'\n",
    "    video_id = Column(String(255), primary_key=True)\n",
    "    trending_date = Column(String(255))\n",
    "    title = Column(String(255))\n",
    "    channel_title = Column(String(255))\n",
    "    category_id = Column(Integer)\n",
    "    publish_time= Column(String(100))\n",
    "    views=Column(Integer)\n",
    "    category=Column(String(100))\n",
    "    likes=Column(Integer)\n",
    "    dislikes=Column(Integer)\n",
    "    comment_count=Column(Integer)\n",
    "\n"
   ]
  },
  {
   "cell_type": "code",
   "execution_count": 15,
   "metadata": {},
   "outputs": [],
   "source": [
    "# Create the table calss within the database\n",
    "Base.metadata.create_all(conn)"
   ]
  },
  {
   "cell_type": "code",
   "execution_count": 9,
   "metadata": {
    "collapsed": true
   },
   "outputs": [],
   "source": [
    "# Adding USvideos data\n",
    "clean_USvideos_df.to_sql(name='USvideos', con=conn, if_exists='append', index=False)\n"
   ]
  },
  {
   "cell_type": "code",
   "execution_count": 10,
   "metadata": {
    "collapsed": true
   },
   "outputs": [],
   "source": [
    "session = Session(bind=engine)"
   ]
  },
  {
   "cell_type": "code",
   "execution_count": 11,
   "metadata": {},
   "outputs": [
    {
     "data": {
      "text/plain": [
       "['measurement', 'station']"
      ]
     },
     "execution_count": 11,
     "metadata": {},
     "output_type": "execute_result"
    }
   ],
   "source": [
    "# Use the Inspector to explore the database and print the table names\n",
    "### BEGIN SOLUTION\n",
    "inspector = inspect(engine)\n",
    "inspector.get_table_names()\n",
    "### END SOLUTION"
   ]
  },
  {
   "cell_type": "code",
   "execution_count": 14,
   "metadata": {},
   "outputs": [
    {
     "data": {
      "text/plain": [
       "[(1, 'USC00519397', 'WAIKIKI 717.2, HI US', 21.2716, -157.8168, 3.0),\n",
       " (2, 'USC00513117', 'KANEOHE 838.1, HI US', 21.4234, -157.8015, 14.6),\n",
       " (3, 'USC00514830', 'KUALOA RANCH HEADQUARTERS 886.9, HI US', 21.5213, -157.8374, 7.0),\n",
       " (4, 'USC00517948', 'PEARL CITY, HI US', 21.3934, -157.9751, 11.9),\n",
       " (5, 'USC00518838', 'UPPER WAHIAWA 874.3, HI US', 21.4992, -158.0111, 306.6),\n",
       " (6, 'USC00519523', 'WAIMANALO EXPERIMENTAL FARM, HI US', 21.33556, -157.71139, 19.5),\n",
       " (7, 'USC00519281', 'WAIHEE 837.5, HI US', 21.45167, -157.84888999999995, 32.9),\n",
       " (8, 'USC00511918', 'HONOLULU OBSERVATORY 702.2, HI US', 21.3152, -157.9992, 0.9),\n",
       " (9, 'USC00516128', 'MANOA LYON ARBO 785.2, HI US', 21.3331, -157.8025, 152.4)]"
      ]
     },
     "execution_count": 14,
     "metadata": {},
     "output_type": "execute_result"
    }
   ],
   "source": [
    "# Use `engine.execute` to select and display the first 10 rows from the station table\n",
    "### BEGIN SOLUTION\n",
    "engine.execute('SELECT * FROM station LIMIT 10').fetchall()\n",
    "### END SOLUTION"
   ]
  },
  {
   "cell_type": "code",
   "execution_count": 5,
   "metadata": {},
   "outputs": [
    {
     "data": {
      "text/plain": [
       "[(1, 'USC00519397', '2010-01-01', 0.08, 65),\n",
       " (2725, 'USC00513117', '2010-01-01', 0.28, 67),\n",
       " (9008, 'USC00518838', '2010-01-01', 0.21, 72),\n",
       " (9519, 'USC00519523', '2010-01-01', 0.15, 75),\n",
       " (12188, 'USC00519281', '2010-01-01', 0.15, 70),\n",
       " (14960, 'USC00511918', '2010-01-01', 0.05, 66),\n",
       " (16939, 'USC00516128', '2010-01-01', 0.14, 73)]"
      ]
     },
     "execution_count": 5,
     "metadata": {},
     "output_type": "execute_result"
    }
   ],
   "source": [
    "engine.execute('SELECT * FROM measurement where date = \"2010-01-01\"').fetchall()"
   ]
  },
  {
   "cell_type": "code",
   "execution_count": null,
   "metadata": {
    "collapsed": true
   },
   "outputs": [],
   "source": []
  }
 ],
 "metadata": {
  "kernelspec": {
   "display_name": "Python 3",
   "language": "python",
   "name": "python3"
  },
  "language_info": {
   "codemirror_mode": {
    "name": "ipython",
    "version": 3
   },
   "file_extension": ".py",
   "mimetype": "text/x-python",
   "name": "python",
   "nbconvert_exporter": "python",
   "pygments_lexer": "ipython3",
   "version": "3.7.3"
  }
 },
 "nbformat": 4,
 "nbformat_minor": 2
}
